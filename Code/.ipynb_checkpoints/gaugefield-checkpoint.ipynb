{
 "cells": [
  {
   "cell_type": "code",
   "execution_count": 1,
   "metadata": {},
   "outputs": [],
   "source": [
    "from Lagrangian import *"
   ]
  },
  {
   "cell_type": "code",
   "execution_count": 2,
   "metadata": {},
   "outputs": [],
   "source": [
    "#creation of group and its representation\n",
    "\n",
    "SU2 = Group('SU(2)',abelian=False,latex_index_name='a')\n",
    "i = Rep('i', SU2, singlet= False)\n",
    "#Here the keywords LA and LARep links the code with Liepy Package"
   ]
  },
  {
   "cell_type": "code",
   "execution_count": 3,
   "metadata": {},
   "outputs": [],
   "source": [
    "#In this lagrangian I am expanding only the covariant derivative.\n",
    "L=Lagrangian()"
   ]
  },
  {
   "cell_type": "code",
   "execution_count": 4,
   "metadata": {},
   "outputs": [
    {
     "name": "stdout",
     "output_type": "stream",
     "text": [
      "[a, Lorentz]\n",
      "[a, Lorentz, Lorentz]\n",
      "[a, Lorentz, Lorentz]\n",
      "[a, Lorentz]\n",
      "[a, Lorentz, Lorentz]\n",
      "[a, Lorentz, Lorentz]\n",
      "[i]\n"
     ]
    }
   ],
   "source": [
    "#addition of the gauge group to the lagrangian\n",
    "L.AddGaugeGroup(SU2, 'g', 'W', latex_name='F')\n",
    "#creation of the scalar field\n",
    "phi = Scalar('phi',latex_name='\\phi',rep=[i])"
   ]
  },
  {
   "cell_type": "code",
   "execution_count": 5,
   "metadata": {},
   "outputs": [],
   "source": [
    "L.AddTerm('j', L.fstr[SU2], L.fstr[SU2])"
   ]
  },
  {
   "cell_type": "code",
   "execution_count": 6,
   "metadata": {},
   "outputs": [],
   "source": [
    "L.AddTerm('-k', L.fstr[SU2], L.fstr[SU2], phi.dag, phi.field)"
   ]
  },
  {
   "cell_type": "code",
   "execution_count": 7,
   "metadata": {},
   "outputs": [],
   "source": [
    "L.AddTerm('l',L.gfield[SU2], L.gfield[SU2], L.gfield[SU2] )"
   ]
  },
  {
   "cell_type": "code",
   "execution_count": 8,
   "metadata": {},
   "outputs": [
    {
     "data": {
      "text/latex": [
       "$\\displaystyle - \\frac{1}{4}  F^{a_1\\mu_1\\mu_2} F_{a_1\\mu_1\\mu_2}+ j  (C_{Lorentz})^{\\mu_1\\mu_2\\mu_3\\mu_4} F^{a_1}_{\\mu_4\\mu_3} F_{a_1\\mu_2\\mu_1}- k  (C_{SU(2)})^{a_1a_2i_1i_2} (C_{Lorentz})^{\\mu_1\\mu_2\\mu_3\\mu_4} F_{a_2\\mu_4\\mu_3} F_{a_1\\mu_2\\mu_1}  (\\phi_{i_2})^{\\dagger} \\phi_{i_1}+ l  (C_{SU(2)})^{a_1a_2a_3} (C_{Lorentz})^{\\mu_1\\mu_2\\mu_3} W_{a_3\\mu_3} W_{a_2\\mu_2} W_{a_1\\mu_1}$"
      ],
      "text/plain": [
       "<IPython.core.display.Math object>"
      ]
     },
     "metadata": {},
     "output_type": "display_data"
    }
   ],
   "source": [
    "L.LatexPrint(L())"
   ]
  },
  {
   "cell_type": "code",
   "execution_count": 9,
   "metadata": {},
   "outputs": [],
   "source": [
    "L.AddTerm('-m', L.fstr[SU2], L.fstr[SU2], phi.dag, phi.field, contraction_pattern=[[1, 2, 3], [-1, -2, -3], [4], [-4]])"
   ]
  },
  {
   "cell_type": "code",
   "execution_count": 10,
   "metadata": {},
   "outputs": [
    {
     "data": {
      "text/latex": [
       "$\\displaystyle - \\frac{1}{4}  F^{a_1\\mu_1\\mu_2} F_{a_1\\mu_1\\mu_2}+ j  (C_{Lorentz})^{\\mu_1\\mu_2\\mu_3\\mu_4} F^{a_1}_{\\mu_4\\mu_3} F_{a_1\\mu_2\\mu_1}- k  (C_{SU(2)})^{a_1a_2i_1i_2} (C_{Lorentz})^{\\mu_1\\mu_2\\mu_3\\mu_4} F_{a_2\\mu_4\\mu_3} F_{a_1\\mu_2\\mu_1}  (\\phi_{i_2})^{\\dagger} \\phi_{i_1}+ l  (C_{SU(2)})^{a_1a_2a_3} (C_{Lorentz})^{\\mu_1\\mu_2\\mu_3} W_{a_3\\mu_3} W_{a_2\\mu_2} W_{a_1\\mu_1}- m  F^{a_1\\mu_1\\mu_2} F_{a_1\\mu_1\\mu_2}  (\\phi^{i_1})^{\\dagger} \\phi_{i_1}$"
      ],
      "text/plain": [
       "<IPython.core.display.Math object>"
      ]
     },
     "metadata": {},
     "output_type": "display_data"
    }
   ],
   "source": [
    "L.LatexPrint(L())"
   ]
  },
  {
   "cell_type": "code",
   "execution_count": null,
   "metadata": {},
   "outputs": [],
   "source": []
  }
 ],
 "metadata": {
  "kernelspec": {
   "display_name": "Python 3",
   "language": "python",
   "name": "python3"
  },
  "language_info": {
   "codemirror_mode": {
    "name": "ipython",
    "version": 3
   },
   "file_extension": ".py",
   "mimetype": "text/x-python",
   "name": "python",
   "nbconvert_exporter": "python",
   "pygments_lexer": "ipython3",
   "version": "3.6.9"
  }
 },
 "nbformat": 4,
 "nbformat_minor": 4
}
